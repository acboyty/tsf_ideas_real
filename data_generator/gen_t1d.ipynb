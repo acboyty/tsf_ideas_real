{
 "metadata": {
  "language_info": {
   "codemirror_mode": {
    "name": "ipython",
    "version": 3
   },
   "file_extension": ".py",
   "mimetype": "text/x-python",
   "name": "python",
   "nbconvert_exporter": "python",
   "pygments_lexer": "ipython3",
   "version": "3.7.9-final"
  },
  "orig_nbformat": 2,
  "kernelspec": {
   "name": "python3",
   "display_name": "Python 3.7.9 64-bit ('py37_pytorch': conda)",
   "metadata": {
    "interpreter": {
     "hash": "b5079757533a07d523b22964b5bda6a42550d36e9c94eb5f662e38c34376cbf3"
    }
   }
  }
 },
 "nbformat": 4,
 "nbformat_minor": 2,
 "cells": [
  {
   "cell_type": "code",
   "execution_count": 43,
   "metadata": {},
   "outputs": [],
   "source": [
    "import numpy as np \n",
    "import pandas as pd \n",
    "import matplotlib.pyplot as plt "
   ]
  },
  {
   "cell_type": "code",
   "execution_count": 132,
   "metadata": {},
   "outputs": [],
   "source": [
    "glucose = pd.read_csv('/home/v-tyan/tsf_ideas_real/data/T1D/552_glucose.csv')\n",
    "bolus = pd.read_csv('/home/v-tyan/tsf_ideas_real/data/T1D/552_bolus.csv')\n",
    "meal = pd.read_csv('/home/v-tyan/tsf_ideas_real/data/T1D/552_meal.csv')"
   ]
  },
  {
   "cell_type": "code",
   "execution_count": 135,
   "metadata": {},
   "outputs": [
    {
     "output_type": "execute_result",
     "data": {
      "text/plain": [
       "     Unnamed: 0      ts_begin               ts_end    type  dose  \\\n",
       "0             0    325.483333  16-04-2025 16:42:34  normal  2.10   \n",
       "1             1    389.883333  16-04-2025 17:46:58  normal  1.85   \n",
       "2             2    396.583333  16-04-2025 17:53:40  normal  1.50   \n",
       "3             3    441.200000  16-04-2025 18:38:17  normal  4.20   \n",
       "4             4    518.950000  16-04-2025 19:56:02  normal  1.70   \n",
       "..          ...           ...                  ...     ...   ...   \n",
       "429          97  74960.283333  07-06-2025 12:37:22  normal  6.90   \n",
       "430          98  75139.916667  07-06-2025 15:37:00  normal  6.60   \n",
       "431          99  75216.166667  07-06-2025 16:53:15  normal  2.00   \n",
       "432         100  75357.583333  07-06-2025 19:14:40  normal  1.80   \n",
       "433         101  75422.316667  07-06-2025 20:19:24  normal  2.30   \n",
       "\n",
       "     bwz_carb_input  \n",
       "0               NaN  \n",
       "1               NaN  \n",
       "2               NaN  \n",
       "3               NaN  \n",
       "4               NaN  \n",
       "..              ...  \n",
       "429             NaN  \n",
       "430             NaN  \n",
       "431             NaN  \n",
       "432             NaN  \n",
       "433             NaN  \n",
       "\n",
       "[434 rows x 6 columns]"
      ],
      "text/html": "<div>\n<style scoped>\n    .dataframe tbody tr th:only-of-type {\n        vertical-align: middle;\n    }\n\n    .dataframe tbody tr th {\n        vertical-align: top;\n    }\n\n    .dataframe thead th {\n        text-align: right;\n    }\n</style>\n<table border=\"1\" class=\"dataframe\">\n  <thead>\n    <tr style=\"text-align: right;\">\n      <th></th>\n      <th>Unnamed: 0</th>\n      <th>ts_begin</th>\n      <th>ts_end</th>\n      <th>type</th>\n      <th>dose</th>\n      <th>bwz_carb_input</th>\n    </tr>\n  </thead>\n  <tbody>\n    <tr>\n      <th>0</th>\n      <td>0</td>\n      <td>325.483333</td>\n      <td>16-04-2025 16:42:34</td>\n      <td>normal</td>\n      <td>2.10</td>\n      <td>NaN</td>\n    </tr>\n    <tr>\n      <th>1</th>\n      <td>1</td>\n      <td>389.883333</td>\n      <td>16-04-2025 17:46:58</td>\n      <td>normal</td>\n      <td>1.85</td>\n      <td>NaN</td>\n    </tr>\n    <tr>\n      <th>2</th>\n      <td>2</td>\n      <td>396.583333</td>\n      <td>16-04-2025 17:53:40</td>\n      <td>normal</td>\n      <td>1.50</td>\n      <td>NaN</td>\n    </tr>\n    <tr>\n      <th>3</th>\n      <td>3</td>\n      <td>441.200000</td>\n      <td>16-04-2025 18:38:17</td>\n      <td>normal</td>\n      <td>4.20</td>\n      <td>NaN</td>\n    </tr>\n    <tr>\n      <th>4</th>\n      <td>4</td>\n      <td>518.950000</td>\n      <td>16-04-2025 19:56:02</td>\n      <td>normal</td>\n      <td>1.70</td>\n      <td>NaN</td>\n    </tr>\n    <tr>\n      <th>...</th>\n      <td>...</td>\n      <td>...</td>\n      <td>...</td>\n      <td>...</td>\n      <td>...</td>\n      <td>...</td>\n    </tr>\n    <tr>\n      <th>429</th>\n      <td>97</td>\n      <td>74960.283333</td>\n      <td>07-06-2025 12:37:22</td>\n      <td>normal</td>\n      <td>6.90</td>\n      <td>NaN</td>\n    </tr>\n    <tr>\n      <th>430</th>\n      <td>98</td>\n      <td>75139.916667</td>\n      <td>07-06-2025 15:37:00</td>\n      <td>normal</td>\n      <td>6.60</td>\n      <td>NaN</td>\n    </tr>\n    <tr>\n      <th>431</th>\n      <td>99</td>\n      <td>75216.166667</td>\n      <td>07-06-2025 16:53:15</td>\n      <td>normal</td>\n      <td>2.00</td>\n      <td>NaN</td>\n    </tr>\n    <tr>\n      <th>432</th>\n      <td>100</td>\n      <td>75357.583333</td>\n      <td>07-06-2025 19:14:40</td>\n      <td>normal</td>\n      <td>1.80</td>\n      <td>NaN</td>\n    </tr>\n    <tr>\n      <th>433</th>\n      <td>101</td>\n      <td>75422.316667</td>\n      <td>07-06-2025 20:19:24</td>\n      <td>normal</td>\n      <td>2.30</td>\n      <td>NaN</td>\n    </tr>\n  </tbody>\n</table>\n<p>434 rows × 6 columns</p>\n</div>"
     },
     "metadata": {},
     "execution_count": 135
    }
   ],
   "source": [
    "bolus"
   ]
  },
  {
   "cell_type": "code",
   "execution_count": 136,
   "metadata": {},
   "outputs": [
    {
     "output_type": "execute_result",
     "data": {
      "text/plain": [
       "27"
      ]
     },
     "metadata": {},
     "execution_count": 136
    }
   ],
   "source": [
    "np.sum(glucose.ts.diff() > 50)"
   ]
  },
  {
   "cell_type": "code",
   "execution_count": 137,
   "metadata": {},
   "outputs": [],
   "source": [
    "interval_ens = glucose.ts[glucose.ts.diff() > 50] - glucose.ts.diff()[glucose.ts.diff() > 50]"
   ]
  },
  {
   "cell_type": "code",
   "execution_count": 138,
   "metadata": {},
   "outputs": [],
   "source": [
    "interval_sts = glucose.ts[glucose.ts.diff() > 50]"
   ]
  },
  {
   "cell_type": "code",
   "execution_count": 139,
   "metadata": {},
   "outputs": [
    {
     "output_type": "execute_result",
     "data": {
      "text/plain": [
       "869       4528.000000\n",
       "1514      7918.216667\n",
       "2074     10783.383333\n",
       "2216     11883.450000\n",
       "2465     13498.366667\n",
       "2728     14918.483333\n",
       "3248     17683.650000\n",
       "3390     18518.700000\n",
       "3827     22013.466667\n",
       "4039     23168.550000\n",
       "4320     24663.616667\n",
       "4604     26363.750000\n",
       "5451     33241.766667\n",
       "5521     33767.800000\n",
       "5955     36092.933333\n",
       "6636     39588.150000\n",
       "7086     43489.766667\n",
       "8003     48220.050000\n",
       "8760     53362.600000\n",
       "8955     54457.666667\n",
       "9070     55437.150000\n",
       "9273     56567.233333\n",
       "9757     59097.383333\n",
       "10335    69062.400000\n",
       "10407    69482.433333\n",
       "11010    72932.633333\n",
       "11378    74907.766667\n",
       "Name: ts, dtype: float64"
      ]
     },
     "metadata": {},
     "execution_count": 139
    }
   ],
   "source": [
    "interval_sts"
   ]
  },
  {
   "cell_type": "code",
   "execution_count": 140,
   "metadata": {},
   "outputs": [
    {
     "output_type": "execute_result",
     "data": {
      "text/plain": [
       "869       4380.250000\n",
       "1514      7773.216667\n",
       "2074     10718.383333\n",
       "2216     11488.433333\n",
       "2465     13138.533333\n",
       "2728     14838.483333\n",
       "3248     17533.616667\n",
       "3390     18388.700000\n",
       "3827     20718.816667\n",
       "4039     23083.550000\n",
       "4320     24568.616667\n",
       "4604     26093.716667\n",
       "5451     30634.000000\n",
       "5521     33586.783333\n",
       "5955     35947.933333\n",
       "6636     39518.150000\n",
       "7086     41833.283333\n",
       "8003     48130.050000\n",
       "8760     52110.283333\n",
       "8955     54332.666667\n",
       "9070     55027.700000\n",
       "9273     56447.233333\n",
       "9757     58997.383333\n",
       "10335    61982.566667\n",
       "10407    69417.416667\n",
       "11010    72522.616667\n",
       "11378    74797.750000\n",
       "Name: ts, dtype: float64"
      ]
     },
     "metadata": {},
     "execution_count": 140
    }
   ],
   "source": [
    "interval_ens"
   ]
  },
  {
   "cell_type": "code",
   "execution_count": 141,
   "metadata": {},
   "outputs": [
    {
     "output_type": "stream",
     "name": "stdout",
     "text": [
      "[0.00, 4380.25)\n[4528.00, 7773.22)\n[7918.22, 10718.38)\n[10783.38, 11488.43)\n[11883.45, 13138.53)\n[13498.37, 14838.48)\n[14918.48, 17533.62)\n[17683.65, 18388.70)\n[18518.70, 20718.82)\n[22013.47, 23083.55)\n[23168.55, 24568.62)\n[24663.62, 26093.72)\n[26363.75, 30634.00)\n[33241.77, 33586.78)\n[33767.80, 35947.93)\n[36092.93, 39518.15)\n[39588.15, 41833.28)\n[43489.77, 48130.05)\n[48220.05, 52110.28)\n[53362.60, 54332.67)\n[54457.67, 55027.70)\n[55437.15, 56447.23)\n[56567.23, 58997.38)\n[59097.38, 61982.57)\n[69062.40, 69417.42)\n[69482.43, 72522.62)\n[72932.63, 74797.75)\n[74907.77, 75233.77)\n"
     ]
    }
   ],
   "source": [
    "basetimes = []\n",
    "\n",
    "st = 0\n",
    "for en, st_ in zip(interval_ens, interval_sts):\n",
    "    print(f'[{st:.2f}, {en:.2f})')\n",
    "    basetimes.append(np.arange(st, en, 5))\n",
    "    st = st_\n",
    "en = glucose.ts[len(glucose) - 1] + 1\n",
    "print(f'[{st:.2f}, {en:.2f})')\n",
    "basetimes.append(np.arange(st, en, 5))"
   ]
  },
  {
   "cell_type": "code",
   "execution_count": 142,
   "metadata": {
    "tags": []
   },
   "outputs": [
    {
     "output_type": "stream",
     "name": "stderr",
     "text": [
      "ipykernel_launcher:13: UserWarning: Boolean Series key will be reindexed to match DataFrame index.\nipykernel_launcher:19: UserWarning: Boolean Series key will be reindexed to match DataFrame index.\nipykernel_launcher:22: UserWarning: Boolean Series key will be reindexed to match DataFrame index.\nipykernel_launcher:13: UserWarning: Boolean Series key will be reindexed to match DataFrame index.\nipykernel_launcher:19: UserWarning: Boolean Series key will be reindexed to match DataFrame index.\nipykernel_launcher:22: UserWarning: Boolean Series key will be reindexed to match DataFrame index.\nipykernel_launcher:13: UserWarning: Boolean Series key will be reindexed to match DataFrame index.\nipykernel_launcher:19: UserWarning: Boolean Series key will be reindexed to match DataFrame index.\nipykernel_launcher:22: UserWarning: Boolean Series key will be reindexed to match DataFrame index.\nipykernel_launcher:13: UserWarning: Boolean Series key will be reindexed to match DataFrame index.\nipykernel_launcher:19: UserWarning: Boolean Series key will be reindexed to match DataFrame index.\nipykernel_launcher:22: UserWarning: Boolean Series key will be reindexed to match DataFrame index.\nipykernel_launcher:13: UserWarning: Boolean Series key will be reindexed to match DataFrame index.\nipykernel_launcher:19: UserWarning: Boolean Series key will be reindexed to match DataFrame index.\nipykernel_launcher:22: UserWarning: Boolean Series key will be reindexed to match DataFrame index.\nipykernel_launcher:13: UserWarning: Boolean Series key will be reindexed to match DataFrame index.\nipykernel_launcher:19: UserWarning: Boolean Series key will be reindexed to match DataFrame index.\nipykernel_launcher:22: UserWarning: Boolean Series key will be reindexed to match DataFrame index.\nipykernel_launcher:13: UserWarning: Boolean Series key will be reindexed to match DataFrame index.\nipykernel_launcher:19: UserWarning: Boolean Series key will be reindexed to match DataFrame index.\nipykernel_launcher:22: UserWarning: Boolean Series key will be reindexed to match DataFrame index.\nipykernel_launcher:13: UserWarning: Boolean Series key will be reindexed to match DataFrame index.\nipykernel_launcher:19: UserWarning: Boolean Series key will be reindexed to match DataFrame index.\nipykernel_launcher:22: UserWarning: Boolean Series key will be reindexed to match DataFrame index.\nipykernel_launcher:13: UserWarning: Boolean Series key will be reindexed to match DataFrame index.\nipykernel_launcher:19: UserWarning: Boolean Series key will be reindexed to match DataFrame index.\nipykernel_launcher:22: UserWarning: Boolean Series key will be reindexed to match DataFrame index.\nipykernel_launcher:13: UserWarning: Boolean Series key will be reindexed to match DataFrame index.\nipykernel_launcher:19: UserWarning: Boolean Series key will be reindexed to match DataFrame index.\nipykernel_launcher:22: UserWarning: Boolean Series key will be reindexed to match DataFrame index.\nipykernel_launcher:13: UserWarning: Boolean Series key will be reindexed to match DataFrame index.\nipykernel_launcher:19: UserWarning: Boolean Series key will be reindexed to match DataFrame index.\nipykernel_launcher:22: UserWarning: Boolean Series key will be reindexed to match DataFrame index.\nipykernel_launcher:13: UserWarning: Boolean Series key will be reindexed to match DataFrame index.\nipykernel_launcher:19: UserWarning: Boolean Series key will be reindexed to match DataFrame index.\nipykernel_launcher:22: UserWarning: Boolean Series key will be reindexed to match DataFrame index.\nipykernel_launcher:13: UserWarning: Boolean Series key will be reindexed to match DataFrame index.\nipykernel_launcher:19: UserWarning: Boolean Series key will be reindexed to match DataFrame index.\nipykernel_launcher:22: UserWarning: Boolean Series key will be reindexed to match DataFrame index.\nipykernel_launcher:13: UserWarning: Boolean Series key will be reindexed to match DataFrame index.\nipykernel_launcher:19: UserWarning: Boolean Series key will be reindexed to match DataFrame index.\nipykernel_launcher:22: UserWarning: Boolean Series key will be reindexed to match DataFrame index.\nipykernel_launcher:13: UserWarning: Boolean Series key will be reindexed to match DataFrame index.\nipykernel_launcher:19: UserWarning: Boolean Series key will be reindexed to match DataFrame index.\nipykernel_launcher:22: UserWarning: Boolean Series key will be reindexed to match DataFrame index.\nipykernel_launcher:13: UserWarning: Boolean Series key will be reindexed to match DataFrame index.\nipykernel_launcher:19: UserWarning: Boolean Series key will be reindexed to match DataFrame index.\nipykernel_launcher:22: UserWarning: Boolean Series key will be reindexed to match DataFrame index.\nipykernel_launcher:13: UserWarning: Boolean Series key will be reindexed to match DataFrame index.\nipykernel_launcher:19: UserWarning: Boolean Series key will be reindexed to match DataFrame index.\nipykernel_launcher:22: UserWarning: Boolean Series key will be reindexed to match DataFrame index.\nipykernel_launcher:13: UserWarning: Boolean Series key will be reindexed to match DataFrame index.\nipykernel_launcher:19: UserWarning: Boolean Series key will be reindexed to match DataFrame index.\nipykernel_launcher:22: UserWarning: Boolean Series key will be reindexed to match DataFrame index.\nipykernel_launcher:13: UserWarning: Boolean Series key will be reindexed to match DataFrame index.\nipykernel_launcher:19: UserWarning: Boolean Series key will be reindexed to match DataFrame index.\nipykernel_launcher:22: UserWarning: Boolean Series key will be reindexed to match DataFrame index.\nipykernel_launcher:13: UserWarning: Boolean Series key will be reindexed to match DataFrame index.\nipykernel_launcher:19: UserWarning: Boolean Series key will be reindexed to match DataFrame index.\nipykernel_launcher:22: UserWarning: Boolean Series key will be reindexed to match DataFrame index.\nipykernel_launcher:13: UserWarning: Boolean Series key will be reindexed to match DataFrame index.\nipykernel_launcher:19: UserWarning: Boolean Series key will be reindexed to match DataFrame index.\nipykernel_launcher:22: UserWarning: Boolean Series key will be reindexed to match DataFrame index.\nipykernel_launcher:13: UserWarning: Boolean Series key will be reindexed to match DataFrame index.\nipykernel_launcher:19: UserWarning: Boolean Series key will be reindexed to match DataFrame index.\nipykernel_launcher:22: UserWarning: Boolean Series key will be reindexed to match DataFrame index.\nipykernel_launcher:13: UserWarning: Boolean Series key will be reindexed to match DataFrame index.\nipykernel_launcher:19: UserWarning: Boolean Series key will be reindexed to match DataFrame index.\nipykernel_launcher:22: UserWarning: Boolean Series key will be reindexed to match DataFrame index.\nipykernel_launcher:13: UserWarning: Boolean Series key will be reindexed to match DataFrame index.\nipykernel_launcher:19: UserWarning: Boolean Series key will be reindexed to match DataFrame index.\nipykernel_launcher:22: UserWarning: Boolean Series key will be reindexed to match DataFrame index.\nipykernel_launcher:13: UserWarning: Boolean Series key will be reindexed to match DataFrame index.\nipykernel_launcher:19: UserWarning: Boolean Series key will be reindexed to match DataFrame index.\nipykernel_launcher:22: UserWarning: Boolean Series key will be reindexed to match DataFrame index.\nipykernel_launcher:13: UserWarning: Boolean Series key will be reindexed to match DataFrame index.\nipykernel_launcher:19: UserWarning: Boolean Series key will be reindexed to match DataFrame index.\nipykernel_launcher:22: UserWarning: Boolean Series key will be reindexed to match DataFrame index.\nipykernel_launcher:13: UserWarning: Boolean Series key will be reindexed to match DataFrame index.\nipykernel_launcher:19: UserWarning: Boolean Series key will be reindexed to match DataFrame index.\nipykernel_launcher:22: UserWarning: Boolean Series key will be reindexed to match DataFrame index.\n"
     ]
    }
   ],
   "source": [
    "glucoses = []\n",
    "boluss = []\n",
    "meals = []\n",
    "\n",
    "for bt in basetimes:\n",
    "    gl = np.zeros_like(bt)\n",
    "    bl = np.zeros_like(bt)\n",
    "    ml = np.zeros_like(bt)\n",
    "\n",
    "    start_time = bt[0]\n",
    "    end_time = bt[-1]\n",
    "    \n",
    "    gll = glucose[glucose.ts >= start_time][glucose.ts <= end_time + 1]\n",
    "    gl[((gll.ts - start_time) / 5 + 0.1).astype(int)] = gll.value\n",
    "    for idx, v in enumerate(gl):\n",
    "        if v < 1:\n",
    "            gl[idx] = gl[idx - 1]\n",
    "    \n",
    "    bll = bolus[bolus.ts_begin >= start_time][bolus.ts_begin <= end_time + 1]\n",
    "    bl[((bll.ts_begin - start_time) / 5 + 0.1).astype(int)] = bll.dose\n",
    "\n",
    "    mll = meal[meal.ts >= start_time][meal.ts <= end_time + 1]\n",
    "    ml[((mll.ts - start_time) / 5 + 0.1).astype(int)] = mll.carbs\n",
    "\n",
    "    glucoses.append(gl)\n",
    "    boluss.append(bl)\n",
    "    meals.append(ml)"
   ]
  },
  {
   "cell_type": "code",
   "execution_count": 143,
   "metadata": {},
   "outputs": [
    {
     "output_type": "stream",
     "name": "stderr",
     "text": [
      "/anaconda/envs/py37_pytorch/lib/python3.7/site-packages/numpy/core/_asarray.py:136: VisibleDeprecationWarning: Creating an ndarray from ragged nested sequences (which is a list-or-tuple of lists-or-tuples-or ndarrays with different lengths or shapes) is deprecated. If you meant to do this, you must specify 'dtype=object' when creating the ndarray\n  return array(a, dtype, copy=False, order=order, subok=True)\n"
     ]
    }
   ],
   "source": [
    "np.savez('../data/T1D/data', basetimes=basetimes, glucoses=glucoses, boluss=boluss, meals=meals)"
   ]
  },
  {
   "cell_type": "code",
   "execution_count": 99,
   "metadata": {},
   "outputs": [],
   "source": [
    "data = np.load('../data/T1D/data.npz', allow_pickle=True)"
   ]
  },
  {
   "cell_type": "code",
   "execution_count": 100,
   "metadata": {},
   "outputs": [
    {
     "output_type": "execute_result",
     "data": {
      "text/plain": [
       "['basetimes', 'glucoses', 'boluss', 'meals']"
      ]
     },
     "metadata": {},
     "execution_count": 100
    }
   ],
   "source": [
    "data.files"
   ]
  },
  {
   "cell_type": "code",
   "execution_count": 102,
   "metadata": {},
   "outputs": [],
   "source": [
    "basetimes = data['basetimes']\n",
    "glucoses = data['glucoses']\n",
    "boluss = data['boluss']\n",
    "meals = data['meals']"
   ]
  },
  {
   "cell_type": "code",
   "execution_count": 104,
   "metadata": {},
   "outputs": [
    {
     "output_type": "execute_result",
     "data": {
      "text/plain": [
       "14926"
      ]
     },
     "metadata": {},
     "execution_count": 104
    }
   ],
   "source": [
    "sum([len(bt) for bt in basetimes])"
   ]
  }
 ]
}